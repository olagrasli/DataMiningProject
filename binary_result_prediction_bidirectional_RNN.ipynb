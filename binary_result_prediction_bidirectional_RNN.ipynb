{
 "cells": [
  {
   "cell_type": "code",
   "execution_count": 180,
   "id": "f69e434a",
   "metadata": {},
   "outputs": [],
   "source": [
    "import pandas as pd\n",
    "import numpy as np\n",
    "import glob\n",
    "\n",
    "import matplotlib.pyplot as plt"
   ]
  },
  {
   "cell_type": "markdown",
   "id": "4812aca8",
   "metadata": {},
   "source": [
    "# Load Data"
   ]
  },
  {
   "cell_type": "code",
   "execution_count": 3,
   "id": "dfdf07b2",
   "metadata": {},
   "outputs": [],
   "source": [
    "weekly_activity_df = pd.read_pickle('weekly_activity_format.pkl')\n",
    "\n",
    "X = np.array(list(weekly_activity_df['X']))\n",
    "y = np.array(weekly_activity_df['y'])"
   ]
  },
  {
   "cell_type": "markdown",
   "id": "72544cb0",
   "metadata": {},
   "source": [
    "## Split Data Into training and testing"
   ]
  },
  {
   "cell_type": "code",
   "execution_count": 5,
   "id": "d21e6a4d",
   "metadata": {},
   "outputs": [],
   "source": [
    "from torch import nn\n",
    "import torch\n",
    "import torch.optim as optim\n",
    "import torch.nn.functional as F\n",
    "\n",
    "from sklearn.model_selection import train_test_split\n",
    "from sklearn.metrics import confusion_matrix, classification_report"
   ]
  },
  {
   "cell_type": "code",
   "execution_count": 6,
   "id": "af5937e7",
   "metadata": {},
   "outputs": [],
   "source": [
    "# check if gpu is available\n",
    "device = torch.device(\"cuda:0\" if torch.cuda.is_available() else \"cpu\")"
   ]
  },
  {
   "cell_type": "code",
   "execution_count": 211,
   "id": "2f5b4e9c",
   "metadata": {},
   "outputs": [],
   "source": [
    "X_train, X_test, y_train, y_test = train_test_split(X, y, test_size=0.2, random_state = 3)\n",
    "X_train, X_val, y_train, y_val = train_test_split(X_train, y_train, test_size=0.1, random_state = 3)"
   ]
  },
  {
   "cell_type": "code",
   "execution_count": 212,
   "id": "de332869",
   "metadata": {},
   "outputs": [],
   "source": [
    "# make datasets into torch tensors\n",
    "X_train, y_train = torch.from_numpy(X_train).float(), torch.tensor(y_train).float()\n",
    "X_test, y_test = torch.from_numpy(X_test).float(), torch.tensor(y_test).float()\n",
    "X_val, y_val = torch.from_numpy(X_val).float(), torch.tensor(y_val).float()"
   ]
  },
  {
   "cell_type": "code",
   "execution_count": 213,
   "id": "60e27064",
   "metadata": {},
   "outputs": [],
   "source": [
    "X_train = X_train.to(device)\n",
    "y_train = y_train.to(device)\n",
    "X_test = X_test.to(device)\n",
    "y_test = y_test.to(device)\n",
    "X_val = X_val.to(device)\n",
    "y_val = y_val.to(device)"
   ]
  },
  {
   "cell_type": "markdown",
   "id": "e02a3ba0",
   "metadata": {},
   "source": [
    "## Create Dataloader"
   ]
  },
  {
   "cell_type": "code",
   "execution_count": 214,
   "id": "2427655d",
   "metadata": {},
   "outputs": [],
   "source": [
    "from torch.utils.data import DataLoader, Dataset"
   ]
  },
  {
   "cell_type": "code",
   "execution_count": 215,
   "id": "5225c8d0",
   "metadata": {},
   "outputs": [],
   "source": [
    "class oversampdata(Dataset):\n",
    "    def __init__(self, x_data, targets):\n",
    "        self.data = x_data\n",
    "        self.targets = targets\n",
    "\n",
    "    def __len__(self):\n",
    "        return len(self.data)\n",
    "    \n",
    "    def __getitem__(self, index):\n",
    "        target = self.targets[index]\n",
    "        data_val = self.data[index]\n",
    "        \n",
    "        return data_val, target"
   ]
  },
  {
   "cell_type": "code",
   "execution_count": 216,
   "id": "db82ade2",
   "metadata": {},
   "outputs": [],
   "source": [
    "train_dataset = oversampdata(X_train, y_train)\n",
    "valid_dataset = oversampdata(X_test, y_test)"
   ]
  },
  {
   "cell_type": "code",
   "execution_count": 217,
   "id": "bddd8ba0",
   "metadata": {},
   "outputs": [],
   "source": [
    "train_loader = DataLoader(train_dataset, batch_size=32, shuffle=True)\n",
    "test_loader = DataLoader(valid_dataset, batch_size=32, shuffle=False)"
   ]
  },
  {
   "cell_type": "markdown",
   "id": "02772458",
   "metadata": {},
   "source": [
    "## Utility Functions"
   ]
  },
  {
   "cell_type": "code",
   "execution_count": 218,
   "id": "d7a11dd5",
   "metadata": {},
   "outputs": [],
   "source": [
    "def binary_acc(y_pred, y_test):\n",
    "    y_pred = y_pred.cpu()\n",
    "    y_test = y_test.cpu()\n",
    "    y_pred_tag = torch.round(y_pred.squeeze(1))\n",
    "\n",
    "    correct_results_sum = (y_pred_tag == y_test).sum().float()\n",
    "    acc = correct_results_sum/y_test.shape[0]\n",
    "    #acc = torch.round(acc * 100)\n",
    "    \n",
    "    return acc"
   ]
  },
  {
   "cell_type": "markdown",
   "id": "b387a529",
   "metadata": {},
   "source": [
    "# Recurrent Neural Networks"
   ]
  },
  {
   "cell_type": "code",
   "execution_count": 219,
   "id": "c1c88c93",
   "metadata": {},
   "outputs": [],
   "source": [
    "class RNN_LSTM(nn.Module): \n",
    "    def __init__(self, input_size, hidden_size, output_size, n_layers=1): \n",
    "        super(RNN_LSTM, self).__init__()\n",
    "        \n",
    "        self.rnn_layer = nn.LSTM(input_size, hidden_size, n_layers, bidirectional = True)\n",
    "        self.fc1 = nn.Linear(hidden_size*2*20, 16)\n",
    "        self.fc2 = nn.Linear(16, output_size)\n",
    "        \n",
    "    def forward(self, inp): \n",
    "        output, hidden = self.rnn_layer(inp)\n",
    "        \n",
    "        x = self.fc1(output.view( output.size(0), -1) )\n",
    "        x = F.relu(x)\n",
    "        x = self.fc2(x)\n",
    "        x = torch.sigmoid(x)\n",
    "        \n",
    "        return x\n",
    "    \n",
    "    \n",
    "class RNN_GRU(nn.Module): \n",
    "    def __init__(self, input_size, hidden_size, output_size, n_layers=1): \n",
    "        super(RNN_GRU, self).__init__()\n",
    "        \n",
    "        self.rnn_layer = nn.GRU(input_size, hidden_size, n_layers, bidirectional = True)\n",
    "        self.fc1 = nn.Linear(hidden_size*2*20, 16)\n",
    "        self.fc2 = nn.Linear(16, output_size)\n",
    "        \n",
    "    def forward(self, inp): \n",
    "        output, hidden = self.rnn_layer(inp)\n",
    "        \n",
    "        x = self.fc1(output.view( output.size(0), -1) )\n",
    "        x = F.relu(x)\n",
    "        x = self.fc2(x)\n",
    "        x = torch.sigmoid(x)\n",
    "        \n",
    "        return x"
   ]
  },
  {
   "cell_type": "code",
   "execution_count": 220,
   "id": "8d1dc093",
   "metadata": {},
   "outputs": [],
   "source": [
    "def train_model(rnn_net, rnn_net_best_val, train_loader=train_loader, X_val=X_val, verbose = True): \n",
    "    # set loss function, optimizer and criterion\n",
    "    criterion = nn.BCELoss()\n",
    "    optimizer = optim.Adam(rnn_net.parameters(), lr=0.01)\n",
    "    loss_fn = nn.MSELoss()\n",
    "\n",
    "    # set training to gpu if exists\n",
    "    rnn_net.to(device)\n",
    "    rnn_net_best_val.to(device)\n",
    "\n",
    "    # training parameters\n",
    "    n_steps = 15\n",
    "    best_val_loss = 100\n",
    "\n",
    "    # train model\n",
    "    for i in range(n_steps):\n",
    "        for i, data in enumerate(train_loader, 0):        \n",
    "            inputs, labels = data        \n",
    "            optimizer.zero_grad()\n",
    "            y_pred_train = rnn_net(inputs)\n",
    "            loss_train = criterion(y_pred_train,labels.unsqueeze(1))        \n",
    "            loss_train.backward()        \n",
    "            optimizer.step()\n",
    "\n",
    "        # validation loss\n",
    "        y_pred_val = rnn_net(X_val)\n",
    "        loss_val = criterion(y_pred_val, y_val.unsqueeze(1))\n",
    "        if (best_val_loss > loss_val.cpu().detach().numpy()): \n",
    "            rnn_net_best_val.load_state_dict(rnn_net.state_dict())\n",
    "            best_val_loss = loss_val.cpu().detach().numpy()\n",
    "            if (verbose): \n",
    "                print(\"Updated best val model\")\n",
    "\n",
    "        # print loss\n",
    "        if(verbose): \n",
    "            print(loss_val.cpu().detach().numpy())\n",
    "            \n",
    "    return rnn_net, rnn_net_best_val"
   ]
  },
  {
   "cell_type": "code",
   "execution_count": 221,
   "id": "7502063a",
   "metadata": {},
   "outputs": [],
   "source": [
    "week_scope = 42\n",
    "\n",
    "# define training data\n",
    "train_dataset = oversampdata(X_train[:, :, :week_scope], y_train)\n",
    "train_loader = DataLoader(train_dataset, batch_size=256, shuffle=True)\n",
    "\n",
    "X_val_week = X_val[:, :, :week_scope]"
   ]
  },
  {
   "cell_type": "code",
   "execution_count": 222,
   "id": "ac9d9929",
   "metadata": {},
   "outputs": [],
   "source": [
    "# define model instance\n",
    "rnn_net = RNN_GRU(X_train[:, :, :week_scope][0].shape[1], 10, 1, n_layers = 1)\n",
    "rnn_net_best_val = RNN_GRU(X_train[:, :, :week_scope][0].shape[1], 10, 1, n_layers = 1)"
   ]
  },
  {
   "cell_type": "code",
   "execution_count": 223,
   "id": "b6783f6d",
   "metadata": {},
   "outputs": [
    {
     "name": "stdout",
     "output_type": "stream",
     "text": [
      "Updated best val model\n",
      "0.26447475\n",
      "Updated best val model\n",
      "0.24170049\n",
      "Updated best val model\n",
      "0.2300368\n",
      "0.23206632\n",
      "0.23347226\n",
      "Updated best val model\n",
      "0.22003374\n",
      "0.2282457\n",
      "0.22934256\n",
      "0.22998051\n",
      "0.22834414\n",
      "0.24403058\n",
      "0.22859058\n",
      "0.22825998\n",
      "0.22732142\n",
      "0.23508997\n"
     ]
    }
   ],
   "source": [
    "# train model \n",
    "rnn_net, rnn_net_best_val = train_model(rnn_net, rnn_net_best_val, train_loader, X_val_week, verbose = True)"
   ]
  },
  {
   "cell_type": "code",
   "execution_count": 224,
   "id": "c98ee67a",
   "metadata": {},
   "outputs": [
    {
     "data": {
      "text/plain": [
       "tensor(0.9148)"
      ]
     },
     "execution_count": 224,
     "metadata": {},
     "output_type": "execute_result"
    }
   ],
   "source": [
    "y_eval = rnn_net_best_val(X_test[:, :, :week_scope])\n",
    "binary_acc(y_eval, y_test)"
   ]
  },
  {
   "cell_type": "code",
   "execution_count": 225,
   "id": "3d11267d",
   "metadata": {},
   "outputs": [],
   "source": [
    "y_pred_binary = torch.round(y_eval.cpu().squeeze(1))"
   ]
  },
  {
   "cell_type": "code",
   "execution_count": 226,
   "id": "823e731d",
   "metadata": {},
   "outputs": [
    {
     "name": "stdout",
     "output_type": "stream",
     "text": [
      "              precision    recall  f1-score   support\n",
      "\n",
      "         0.0       0.96      0.86      0.91      2757\n",
      "         1.0       0.88      0.97      0.92      3042\n",
      "\n",
      "    accuracy                           0.91      5799\n",
      "   macro avg       0.92      0.91      0.91      5799\n",
      "weighted avg       0.92      0.91      0.91      5799\n",
      "\n"
     ]
    }
   ],
   "source": [
    "print(classification_report(y_test.cpu().detach().numpy(), y_pred_binary.detach().numpy()))"
   ]
  },
  {
   "cell_type": "markdown",
   "id": "107ddaa1",
   "metadata": {},
   "source": [
    "## 4-Week period data predictions "
   ]
  },
  {
   "cell_type": "code",
   "execution_count": 156,
   "id": "ba3822c4",
   "metadata": {},
   "outputs": [],
   "source": [
    "week_scopes = list(range(12, 42, 4))\n",
    "gru_accs = []\n",
    "lstm_accs = []"
   ]
  },
  {
   "cell_type": "markdown",
   "id": "cbccfc28",
   "metadata": {},
   "source": [
    "### GRU"
   ]
  },
  {
   "cell_type": "code",
   "execution_count": 164,
   "id": "f4bed89b",
   "metadata": {},
   "outputs": [
    {
     "name": "stdout",
     "output_type": "stream",
     "text": [
      "Scope:  12\n",
      "Accuract:  0.715468168258667\n",
      "\n",
      "Scope:  16\n",
      "Accuract:  0.7482324242591858\n",
      "\n",
      "Scope:  20\n",
      "Accuract:  0.7951371073722839\n",
      "\n",
      "Scope:  24\n",
      "Accuract:  0.8289360404014587\n",
      "\n",
      "Scope:  28\n",
      "Accuract:  0.8653216361999512\n",
      "\n",
      "Scope:  32\n",
      "Accuract:  0.881531298160553\n",
      "\n",
      "Scope:  36\n",
      "Accuract:  0.9051560759544373\n",
      "\n",
      "Scope:  40\n",
      "Accuract:  0.9141231179237366\n",
      "\n"
     ]
    }
   ],
   "source": [
    "for week_scope in week_scopes: \n",
    "    print(\"Scope: \", week_scope)\n",
    "    # define training data\n",
    "    train_dataset = oversampdata(X_train[:, :, :week_scope], y_train)\n",
    "    train_loader = DataLoader(train_dataset, batch_size=256, shuffle=True)\n",
    "\n",
    "    X_val_week = X_val[:, :, :week_scope]\n",
    "\n",
    "    # define model instance\n",
    "    rnn_net = RNN_GRU(X_train[:, :, :week_scope][0].shape[1], 10, 1, n_layers = 1)\n",
    "    rnn_net_best_val = RNN_GRU(X_train[:, :, :week_scope][0].shape[1], 10, 1, n_layers = 1)\n",
    "\n",
    "    # train model \n",
    "    rnn_net, rnn_net_best_val = train_model(rnn_net, rnn_net_best_val, train_loader, X_val_week, verbose = False)\n",
    "\n",
    "    y_eval = rnn_net_best_val(X_test[:, :, :week_scope])\n",
    "    gru_accs.append(binary_acc(y_eval, y_test).item())\n",
    "    print(\"Accuract: \", binary_acc(y_eval, y_test).item())\n",
    "    print()"
   ]
  },
  {
   "cell_type": "markdown",
   "id": "75b242ae",
   "metadata": {},
   "source": [
    "### LSTM"
   ]
  },
  {
   "cell_type": "code",
   "execution_count": 165,
   "id": "5407bc1f",
   "metadata": {},
   "outputs": [
    {
     "name": "stdout",
     "output_type": "stream",
     "text": [
      "Scope:  12\n",
      "Accuract:  0.7280565500259399\n",
      "\n",
      "Scope:  16\n",
      "Accuract:  0.7490946650505066\n",
      "\n",
      "Scope:  20\n",
      "Accuract:  0.7972064018249512\n",
      "\n",
      "Scope:  24\n",
      "Accuract:  0.8311777710914612\n",
      "\n",
      "Scope:  28\n",
      "Accuract:  0.86411452293396\n",
      "\n",
      "Scope:  32\n",
      "Accuract:  0.8820486068725586\n",
      "\n",
      "Scope:  36\n",
      "Accuract:  0.903948962688446\n",
      "\n",
      "Scope:  40\n",
      "Accuract:  0.9123986959457397\n",
      "\n"
     ]
    }
   ],
   "source": [
    "for week_scope in week_scopes: \n",
    "    print(\"Scope: \", week_scope)\n",
    "    # define training data\n",
    "    train_dataset = oversampdata(X_train[:, :, :week_scope], y_train)\n",
    "    train_loader = DataLoader(train_dataset, batch_size=256, shuffle=True)\n",
    "\n",
    "    X_val_week = X_val[:, :, :week_scope]\n",
    "\n",
    "    # define model instance\n",
    "    rnn_net = RNN_LSTM(X_train[:, :, :week_scope][0].shape[1], 10, 1, n_layers = 1)\n",
    "    rnn_net_best_val = RNN_LSTM(X_train[:, :, :week_scope][0].shape[1], 10, 1, n_layers = 1)\n",
    "\n",
    "    # train model \n",
    "    rnn_net, rnn_net_best_val = train_model(rnn_net, rnn_net_best_val, train_loader, X_val_week, verbose = False)\n",
    "\n",
    "    y_eval = rnn_net_best_val(X_test[:, :, :week_scope])\n",
    "    lstm_accs.append(binary_acc(y_eval, y_test).item())\n",
    "    print(\"Accuract: \", binary_acc(y_eval, y_test).item())\n",
    "    print()"
   ]
  },
  {
   "cell_type": "markdown",
   "id": "3f6c015a",
   "metadata": {},
   "source": [
    "## Plot model results for the weekly periods"
   ]
  },
  {
   "cell_type": "code",
   "execution_count": 194,
   "id": "1b2f3eef",
   "metadata": {},
   "outputs": [
    {
     "data": {
      "image/png": "[encoded data removed]",
      "text/plain": [
       "<Figure size 720x432 with 1 Axes>"
      ]
     },
     "metadata": {
      "needs_background": "light"
     },
     "output_type": "display_data"
    }
   ],
   "source": [
    "plt.figure(figsize=(10, 6))\n",
    "# plot period lines\n",
    "plt.plot(week_scopes, gru_accs, label='GRU')\n",
    "plt.plot(week_scopes,lstm_accs, label='LSTM')\n",
    "# plot accuracy points\n",
    "plt.scatter([week_scopes[-1]], [gru_accs[-1]])\n",
    "plt.annotate(\"GRU: \"+str(round(gru_accs[-1]*100, 2))+\"%\", (week_scopes[-1], gru_accs[-1]+0.01))\n",
    "plt.scatter([week_scopes[-1]], [lstm_accs[-1]])\n",
    "plt.annotate(\"LSTM: \"+str(round(gru_accs[-1]*100, 2))+\"%\", (week_scopes[-1], lstm_accs[-1]-0.01))\n",
    "# make labels\n",
    "plt.legend()\n",
    "plt.xlabel('Weeks')\n",
    "plt.ylabel('Accuracy')\n",
    "plt.grid(True)\n",
    "plt.xticks(week_scopes)\n",
    "plt.show()"
   ]
  },
  {
   "cell_type": "markdown",
   "id": "4b42fc96",
   "metadata": {},
   "source": [
    "## Test last half of data"
   ]
  },
  {
   "cell_type": "code",
   "execution_count": 228,
   "id": "4e8a3db3",
   "metadata": {},
   "outputs": [
    {
     "name": "stdout",
     "output_type": "stream",
     "text": [
      "0.915502667427063\n"
     ]
    }
   ],
   "source": [
    "week_scope = 21\n",
    "\n",
    "# define training data\n",
    "train_dataset = oversampdata(X_train[:, :, week_scope:], y_train)\n",
    "train_loader = DataLoader(train_dataset, batch_size=256, shuffle=True)\n",
    "\n",
    "X_val_week = X_val[:, :, week_scope:]\n",
    "\n",
    "# define model instance\n",
    "rnn_net = RNN_GRU(X_train[:, :, week_scope:][0].shape[1], 10, 1, n_layers = 1)\n",
    "rnn_net_best_val = RNN_GRU(X_train[:, :, week_scope:][0].shape[1], 10, 1, n_layers = 1)\n",
    "\n",
    "# train model \n",
    "rnn_net, rnn_net_best_val = train_model(rnn_net, rnn_net_best_val, train_loader, X_val_week, verbose = False)\n",
    "\n",
    "y_eval = rnn_net_best_val(X_test[:, :, week_scope:])\n",
    "print(binary_acc(y_eval, y_test).item())"
   ]
  },
  {
   "cell_type": "code",
   "execution_count": null,
   "id": "1af05bdf",
   "metadata": {},
   "outputs": [],
   "source": []
  }
 ],
 "metadata": {
  "kernelspec": {
   "display_name": "Python 3",
   "language": "python",
   "name": "python3"
  },
  "language_info": {
   "codemirror_mode": {
    "name": "ipython",
    "version": 3
   },
   "file_extension": ".py",
   "mimetype": "text/x-python",
   "name": "python",
   "nbconvert_exporter": "python",
   "pygments_lexer": "ipython3",
   "version": "3.8.8"
  }
 },
 "nbformat": 4,
 "nbformat_minor": 5
}
