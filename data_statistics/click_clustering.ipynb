{
 "cells": [
  {
   "cell_type": "markdown",
   "id": "proprietary-joint",
   "metadata": {},
   "source": [
    "# Click clustering\n",
    "In this notebook we plan to cluster the students in each course by their click activity. This is to see if we can create clusters that might belong more strongly to pass or fail. "
   ]
  },
  {
   "cell_type": "code",
   "execution_count": null,
   "id": "broke-keyboard",
   "metadata": {},
   "outputs": [],
   "source": []
  }
 ],
 "metadata": {
  "kernelspec": {
   "display_name": "Python 3",
   "language": "python",
   "name": "python3"
  },
  "language_info": {
   "codemirror_mode": {
    "name": "ipython",
    "version": 3
   },
   "file_extension": ".py",
   "mimetype": "text/x-python",
   "name": "python",
   "nbconvert_exporter": "python",
   "pygments_lexer": "ipython3",
   "version": "3.8.6"
  }
 },
 "nbformat": 4,
 "nbformat_minor": 5
}
