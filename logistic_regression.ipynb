{
 "cells": [
  {
   "cell_type": "markdown",
   "id": "proprietary-joint",
   "metadata": {},
   "source": [
    "# Logistic Regression"
   ]
  },
  {
   "cell_type": "code",
   "execution_count": 26,
   "id": "blessed-sculpture",
   "metadata": {},
   "outputs": [],
   "source": [
    "import pandas as pd\n",
    "import numpy as np\n",
    "import glob\n",
    "\n",
    "from sklearn.model_selection import train_test_split\n",
    "from sklearn.metrics import confusion_matrix, classification_report\n",
    "from sklearn.model_selection import cross_val_score\n",
    "from sklearn.preprocessing import StandardScaler\n",
    "\n",
    "from sklearn.linear_model import LogisticRegression\n",
    "\n",
    "from collections import Counter\n",
    "\n",
    "import math"
   ]
  },
  {
   "cell_type": "code",
   "execution_count": 2,
   "id": "attractive-enterprise",
   "metadata": {},
   "outputs": [],
   "source": [
    "import matplotlib.pyplot as plt"
   ]
  },
  {
   "cell_type": "markdown",
   "id": "fleet-civilization",
   "metadata": {},
   "source": [
    "# Load data into panda-frames and inspect"
   ]
  },
  {
   "cell_type": "code",
   "execution_count": 17,
   "id": "b9fc8e16",
   "metadata": {},
   "outputs": [],
   "source": [
    "weekly_activity_df = pd.read_pickle('weekly_activity_format.pkl')\n",
    "\n",
    "X_week = np.array(list(weekly_activity_df['X']))\n",
    "y = np.array(weekly_activity_df['y'])"
   ]
  },
  {
   "cell_type": "code",
   "execution_count": 76,
   "id": "73413fb0",
   "metadata": {},
   "outputs": [
    {
     "data": {
      "text/plain": [
       "((28993, 20, 42), (28993,))"
      ]
     },
     "execution_count": 76,
     "metadata": {},
     "output_type": "execute_result"
    }
   ],
   "source": [
    "X_week.shape, y.shape"
   ]
  },
  {
   "cell_type": "markdown",
   "id": "00c0d8cd",
   "metadata": {},
   "source": [
    "# Data in activity types"
   ]
  },
  {
   "cell_type": "markdown",
   "id": "ac9e4c22",
   "metadata": {},
   "source": [
    "## Format X-data "
   ]
  },
  {
   "cell_type": "code",
   "execution_count": 19,
   "id": "80359add",
   "metadata": {},
   "outputs": [],
   "source": [
    "# in this analysis we do not use temporal states so we sum all weeks to one row\n",
    "X = []\n",
    "for week_matrix in X_week: \n",
    "    X.append(week_matrix.sum(axis=1))"
   ]
  },
  {
   "cell_type": "code",
   "execution_count": 21,
   "id": "717b2ac7",
   "metadata": {},
   "outputs": [],
   "source": [
    "X = np.array(X)"
   ]
  },
  {
   "cell_type": "markdown",
   "id": "ddf0fedc",
   "metadata": {},
   "source": [
    "## Train Logistic Regression Model"
   ]
  },
  {
   "cell_type": "code",
   "execution_count": 28,
   "id": "159d9cb6",
   "metadata": {},
   "outputs": [],
   "source": [
    "scaler = StandardScaler()\n",
    "X = scaler.fit_transform(X)"
   ]
  },
  {
   "cell_type": "code",
   "execution_count": 29,
   "id": "dc7edf54",
   "metadata": {},
   "outputs": [],
   "source": [
    "# split into train and test set\n",
    "X_train, X_test, y_train, y_test = train_test_split(X, y, test_size=0.2, random_state = 3)"
   ]
  },
  {
   "cell_type": "code",
   "execution_count": 30,
   "id": "bc1ae648",
   "metadata": {},
   "outputs": [
    {
     "name": "stdout",
     "output_type": "stream",
     "text": [
      "Training data:  Counter({1: 12340, 0: 10854})\n",
      "testing data:  Counter({1: 3042, 0: 2757})\n"
     ]
    }
   ],
   "source": [
    "# print the counted y_train and y test\n",
    "cnt_binary = Counter(list(y_train))\n",
    "print(\"Training data: \", cnt_binary)\n",
    "cnt_binary = Counter(list(y_test))\n",
    "print(\"testing data: \", cnt_binary)"
   ]
  },
  {
   "cell_type": "code",
   "execution_count": 32,
   "id": "fbd041e7",
   "metadata": {},
   "outputs": [
    {
     "name": "stdout",
     "output_type": "stream",
     "text": [
      "              precision    recall  f1-score   support\n",
      "\n",
      "           0       0.74      0.83      0.78      2757\n",
      "           1       0.83      0.74      0.78      3042\n",
      "\n",
      "    accuracy                           0.78      5799\n",
      "   macro avg       0.78      0.78      0.78      5799\n",
      "weighted avg       0.79      0.78      0.78      5799\n",
      "\n"
     ]
    }
   ],
   "source": [
    "# fit model\n",
    "clf = LogisticRegression(random_state=0).fit(X_train, y_train)\n",
    "\n",
    "y_pred = clf.predict(X_test)\n",
    "\n",
    "print(classification_report(y_test, y_pred))"
   ]
  },
  {
   "cell_type": "markdown",
   "id": "3aa93b9d",
   "metadata": {},
   "source": [
    "## Cross validations Scores"
   ]
  },
  {
   "cell_type": "code",
   "execution_count": 35,
   "id": "4a164131",
   "metadata": {},
   "outputs": [],
   "source": [
    "scores = cross_val_score(clf, X, y, cv=5)"
   ]
  },
  {
   "cell_type": "code",
   "execution_count": 36,
   "id": "82614331",
   "metadata": {},
   "outputs": [
    {
     "name": "stdout",
     "output_type": "stream",
     "text": [
      "0.75 accuracy with a standard deviation of 0.05\n"
     ]
    }
   ],
   "source": [
    "print(\"%0.2f accuracy with a standard deviation of %0.2f\" % (scores.mean(), scores.std()))"
   ]
  },
  {
   "cell_type": "markdown",
   "id": "c156b417",
   "metadata": {},
   "source": [
    "## Print latex friendly format"
   ]
  },
  {
   "cell_type": "code",
   "execution_count": 52,
   "id": "0a34a36f",
   "metadata": {},
   "outputs": [],
   "source": [
    "classification_report_all = classification_report(y_test, y_pred)"
   ]
  },
  {
   "cell_type": "code",
   "execution_count": 53,
   "id": "84f44d95",
   "metadata": {},
   "outputs": [],
   "source": [
    "def print_latex_report(classification_report): \n",
    "    for line in classification_report.split(\"\\n\"): \n",
    "        if (len(line.split()) > 0): \n",
    "            for print_item in line.split()[:-1]: \n",
    "                print(print_item, \" & \", end=\"\")\n",
    "            print(line.split()[-1], \" \\\\\\\\\")\n"
   ]
  },
  {
   "cell_type": "code",
   "execution_count": 54,
   "id": "95bc36fa",
   "metadata": {},
   "outputs": [
    {
     "name": "stdout",
     "output_type": "stream",
     "text": [
      "precision  & recall  & f1-score  & support  \\\\\n",
      "0  & 0.82  & 0.89  & 0.85  & 2757  \\\\\n",
      "1  & 0.89  & 0.82  & 0.85  & 3042  \\\\\n",
      "accuracy  & 0.85  & 5799  \\\\\n",
      "macro  & avg  & 0.85  & 0.85  & 0.85  & 5799  \\\\\n",
      "weighted  & avg  & 0.85  & 0.85  & 0.85  & 5799  \\\\\n"
     ]
    }
   ],
   "source": [
    "print_latex_report(classification_report_all)"
   ]
  },
  {
   "cell_type": "markdown",
   "id": "4e35d6dc",
   "metadata": {},
   "source": [
    "## First half of the VLE data"
   ]
  },
  {
   "cell_type": "code",
   "execution_count": 58,
   "id": "6031e3a1",
   "metadata": {},
   "outputs": [],
   "source": [
    "half_week_period = int(42/2)"
   ]
  },
  {
   "cell_type": "code",
   "execution_count": 59,
   "id": "7644d309",
   "metadata": {},
   "outputs": [],
   "source": [
    "# in this analysis we do not use temporal states so we sum all weeks to one row\n",
    "X_half = []\n",
    "for week_matrix in X_week: \n",
    "    X_half.append(week_matrix[:, :half_week_period].sum(axis=1))"
   ]
  },
  {
   "cell_type": "code",
   "execution_count": 60,
   "id": "a464f3b3",
   "metadata": {},
   "outputs": [],
   "source": [
    "# standarddize data\n",
    "X_half = scaler.fit_transform(X_half)"
   ]
  },
  {
   "cell_type": "code",
   "execution_count": 61,
   "id": "be41bd38",
   "metadata": {},
   "outputs": [],
   "source": [
    "# split into train and test set\n",
    "X_half_train, X_half_test, y_train, y_test = train_test_split(X_half, y, test_size=0.2, random_state = 3)"
   ]
  },
  {
   "cell_type": "code",
   "execution_count": 62,
   "id": "d20b7442",
   "metadata": {},
   "outputs": [
    {
     "name": "stdout",
     "output_type": "stream",
     "text": [
      "Training data:  Counter({1: 12340, 0: 10854})\n",
      "testing data:  Counter({1: 3042, 0: 2757})\n"
     ]
    }
   ],
   "source": [
    "# print the counted y_train and y test\n",
    "cnt_binary = Counter(list(y_train))\n",
    "print(\"Training data: \", cnt_binary)\n",
    "cnt_binary = Counter(list(y_test))\n",
    "print(\"testing data: \", cnt_binary)"
   ]
  },
  {
   "cell_type": "code",
   "execution_count": 63,
   "id": "e233c9d4",
   "metadata": {},
   "outputs": [
    {
     "name": "stdout",
     "output_type": "stream",
     "text": [
      "              precision    recall  f1-score   support\n",
      "\n",
      "           0       0.66      0.76      0.71      2757\n",
      "           1       0.75      0.65      0.70      3042\n",
      "\n",
      "    accuracy                           0.70      5799\n",
      "   macro avg       0.71      0.70      0.70      5799\n",
      "weighted avg       0.71      0.70      0.70      5799\n",
      "\n"
     ]
    }
   ],
   "source": [
    "# fit model\n",
    "clf = LogisticRegression(random_state=0).fit(X_half_train, y_train)\n",
    "\n",
    "y_pred = clf.predict(X_half_test)\n",
    "\n",
    "print(classification_report(y_test, y_pred))"
   ]
  },
  {
   "cell_type": "markdown",
   "id": "e4788613",
   "metadata": {},
   "source": [
    "### Cross validation results"
   ]
  },
  {
   "cell_type": "code",
   "execution_count": 64,
   "id": "34d8e304",
   "metadata": {},
   "outputs": [],
   "source": [
    "scores = cross_val_score(clf, X_half, y, cv=5)"
   ]
  },
  {
   "cell_type": "code",
   "execution_count": 65,
   "id": "0ef6354d",
   "metadata": {},
   "outputs": [
    {
     "name": "stdout",
     "output_type": "stream",
     "text": [
      "0.67 accuracy with a standard deviation of 0.03\n"
     ]
    }
   ],
   "source": [
    "print(\"%0.2f accuracy with a standard deviation of %0.2f\" % (scores.mean(), scores.std()))"
   ]
  },
  {
   "cell_type": "markdown",
   "id": "2cb927eb",
   "metadata": {},
   "source": [
    "### Print Latex friendly"
   ]
  },
  {
   "cell_type": "code",
   "execution_count": 66,
   "id": "c6f239e0",
   "metadata": {},
   "outputs": [],
   "source": [
    "classification_report_half = classification_report(y_test, y_pred)"
   ]
  },
  {
   "cell_type": "code",
   "execution_count": 67,
   "id": "e3843d58",
   "metadata": {},
   "outputs": [
    {
     "name": "stdout",
     "output_type": "stream",
     "text": [
      "precision  & recall  & f1-score  & support  \\\\\n",
      "0  & 0.66  & 0.76  & 0.71  & 2757  \\\\\n",
      "1  & 0.75  & 0.65  & 0.70  & 3042  \\\\\n",
      "accuracy  & 0.70  & 5799  \\\\\n",
      "macro  & avg  & 0.71  & 0.70  & 0.70  & 5799  \\\\\n",
      "weighted  & avg  & 0.71  & 0.70  & 0.70  & 5799  \\\\\n"
     ]
    }
   ],
   "source": [
    "print_latex_report(classification_report_half)"
   ]
  },
  {
   "cell_type": "markdown",
   "id": "a99a8da6",
   "metadata": {},
   "source": [
    "## Second half of VLE data"
   ]
  },
  {
   "cell_type": "code",
   "execution_count": 70,
   "id": "f1d92ef0",
   "metadata": {},
   "outputs": [],
   "source": [
    "# in this analysis we do not use temporal states so we sum all weeks to one row\n",
    "X_last_half = []\n",
    "for week_matrix in X_week: \n",
    "    X_last_half.append(week_matrix[:, half_week_period:].sum(axis=1))"
   ]
  },
  {
   "cell_type": "code",
   "execution_count": 71,
   "id": "91bad3c6",
   "metadata": {},
   "outputs": [],
   "source": [
    "# standarddize data\n",
    "X_last_half = scaler.fit_transform(X_last_half)"
   ]
  },
  {
   "cell_type": "code",
   "execution_count": 72,
   "id": "1fbd6c84",
   "metadata": {},
   "outputs": [],
   "source": [
    "X_last_half_train, X_last_half_test, y_train, y_test = train_test_split(X_last_half, y, test_size=0.2, random_state = 3)"
   ]
  },
  {
   "cell_type": "code",
   "execution_count": 73,
   "id": "15f421f2",
   "metadata": {},
   "outputs": [
    {
     "name": "stdout",
     "output_type": "stream",
     "text": [
      "              precision    recall  f1-score   support\n",
      "\n",
      "           0       0.82      0.89      0.85      2757\n",
      "           1       0.89      0.82      0.85      3042\n",
      "\n",
      "    accuracy                           0.85      5799\n",
      "   macro avg       0.85      0.85      0.85      5799\n",
      "weighted avg       0.85      0.85      0.85      5799\n",
      "\n"
     ]
    }
   ],
   "source": [
    "# fit model\n",
    "clf = LogisticRegression(random_state=0).fit(X_last_half_train, y_train)\n",
    "\n",
    "y_pred = clf.predict(X_last_half_test)\n",
    "\n",
    "print(classification_report(y_test, y_pred))"
   ]
  },
  {
   "cell_type": "markdown",
   "id": "cd36230a",
   "metadata": {},
   "source": [
    "### Cross validation "
   ]
  },
  {
   "cell_type": "code",
   "execution_count": 74,
   "id": "ec10f51e",
   "metadata": {},
   "outputs": [],
   "source": [
    "scores = cross_val_score(clf, X_last_half, y, cv=5)"
   ]
  },
  {
   "cell_type": "code",
   "execution_count": 75,
   "id": "8aac5870",
   "metadata": {},
   "outputs": [
    {
     "name": "stdout",
     "output_type": "stream",
     "text": [
      "0.84 accuracy with a standard deviation of 0.05\n"
     ]
    }
   ],
   "source": [
    "print(\"%0.2f accuracy with a standard deviation of %0.2f\" % (scores.mean(), scores.std()))"
   ]
  },
  {
   "cell_type": "markdown",
   "id": "ecf58b74",
   "metadata": {},
   "source": [
    "# Data in weekly clicks"
   ]
  },
  {
   "cell_type": "code",
   "execution_count": 77,
   "id": "8126aa51",
   "metadata": {},
   "outputs": [],
   "source": [
    "# in this analysis we do not use temporal states so we sum all weeks to one row\n",
    "X = []\n",
    "for week_matrix in X_week: \n",
    "    X.append(week_matrix.sum(axis=0))\n",
    "\n",
    "X = np.array(X)"
   ]
  },
  {
   "cell_type": "markdown",
   "id": "7a684410",
   "metadata": {},
   "source": [
    "## All data"
   ]
  },
  {
   "cell_type": "code",
   "execution_count": 81,
   "id": "d015681d",
   "metadata": {},
   "outputs": [
    {
     "name": "stdout",
     "output_type": "stream",
     "text": [
      "Training data:  Counter({1: 12340, 0: 10854})\n",
      "testing data:  Counter({1: 3042, 0: 2757})\n",
      "\n",
      "              precision    recall  f1-score   support\n",
      "\n",
      "           0       0.79      0.90      0.84      2757\n",
      "           1       0.90      0.78      0.84      3042\n",
      "\n",
      "    accuracy                           0.84      5799\n",
      "   macro avg       0.84      0.84      0.84      5799\n",
      "weighted avg       0.85      0.84      0.84      5799\n",
      "\n"
     ]
    }
   ],
   "source": [
    "scaler = StandardScaler()\n",
    "X = scaler.fit_transform(X)\n",
    "\n",
    "# split into train and test set\n",
    "X_train, X_test, y_train, y_test = train_test_split(X, y, test_size=0.2, random_state = 3)\n",
    "\n",
    "# print the counted y_train and y test\n",
    "cnt_binary = Counter(list(y_train))\n",
    "print(\"Training data: \", cnt_binary)\n",
    "cnt_binary = Counter(list(y_test))\n",
    "print(\"testing data: \", cnt_binary)\n",
    "print()\n",
    "\n",
    "# fit model\n",
    "clf = LogisticRegression(random_state=0).fit(X_train, y_train)\n",
    "\n",
    "y_pred = clf.predict(X_test)\n",
    "\n",
    "print(classification_report(y_test, y_pred))"
   ]
  },
  {
   "cell_type": "markdown",
   "id": "e2707902",
   "metadata": {},
   "source": [
    "### Cross validation"
   ]
  },
  {
   "cell_type": "code",
   "execution_count": 82,
   "id": "895075c2",
   "metadata": {},
   "outputs": [
    {
     "name": "stdout",
     "output_type": "stream",
     "text": [
      "0.84 accuracy with a standard deviation of 0.05\n"
     ]
    }
   ],
   "source": [
    "scores = cross_val_score(clf, X_last_half, y, cv=5)\n",
    "\n",
    "print(\"%0.2f accuracy with a standard deviation of %0.2f\" % (scores.mean(), scores.std()))"
   ]
  },
  {
   "cell_type": "code",
   "execution_count": null,
   "id": "e19ea8c9",
   "metadata": {},
   "outputs": [],
   "source": []
  }
 ],
 "metadata": {
  "kernelspec": {
   "display_name": "Python 3",
   "language": "python",
   "name": "python3"
  },
  "language_info": {
   "codemirror_mode": {
    "name": "ipython",
    "version": 3
   },
   "file_extension": ".py",
   "mimetype": "text/x-python",
   "name": "python",
   "nbconvert_exporter": "python",
   "pygments_lexer": "ipython3",
   "version": "3.8.8"
  }
 },
 "nbformat": 4,
 "nbformat_minor": 5
}
